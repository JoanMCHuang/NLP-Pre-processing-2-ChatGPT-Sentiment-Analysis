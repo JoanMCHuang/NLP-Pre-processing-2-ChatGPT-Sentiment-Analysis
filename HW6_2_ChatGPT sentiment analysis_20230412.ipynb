{
 "cells": [
  {
   "cell_type": "markdown",
   "id": "b8d19eda",
   "metadata": {},
   "source": [
    "## 套件引入 及 資料前處理"
   ]
  },
  {
   "cell_type": "code",
   "execution_count": 1,
   "id": "860b0b2a",
   "metadata": {},
   "outputs": [],
   "source": [
    "from nltk.tokenize import word_tokenize\n",
    "from nltk.corpus import stopwords\n",
    "from nltk.stem import PorterStemmer\n",
    "from sklearn.model_selection import train_test_split\n",
    "from keras.preprocessing.text import Tokenizer\n",
    "from keras_preprocessing.sequence import pad_sequences\n",
    "from tensorflow.keras.layers import Activation, Dense, Embedding, LSTM, Bidirectional\n",
    "from tensorflow.keras.models import Sequential\n",
    "import matplotlib.pyplot as plt\n",
    "from wordcloud import WordCloud\n",
    "from math import log, sqrt\n",
    "import pandas as pd\n",
    "import numpy as np\n",
    "%matplotlib inline"
   ]
  },
  {
   "cell_type": "code",
   "execution_count": 25,
   "id": "f4205396",
   "metadata": {},
   "outputs": [
    {
     "data": {
      "text/html": [
       "<div>\n",
       "<style scoped>\n",
       "    .dataframe tbody tr th:only-of-type {\n",
       "        vertical-align: middle;\n",
       "    }\n",
       "\n",
       "    .dataframe tbody tr th {\n",
       "        vertical-align: top;\n",
       "    }\n",
       "\n",
       "    .dataframe thead th {\n",
       "        text-align: right;\n",
       "    }\n",
       "</style>\n",
       "<table border=\"1\" class=\"dataframe\">\n",
       "  <thead>\n",
       "    <tr style=\"text-align: right;\">\n",
       "      <th></th>\n",
       "      <th>Unnamed: 0</th>\n",
       "      <th>tweets</th>\n",
       "      <th>labels</th>\n",
       "    </tr>\n",
       "  </thead>\n",
       "  <tbody>\n",
       "    <tr>\n",
       "      <th>0</th>\n",
       "      <td>0</td>\n",
       "      <td>ChatGPT: Optimizing Language Models for Dialog...</td>\n",
       "      <td>neutral</td>\n",
       "    </tr>\n",
       "    <tr>\n",
       "      <th>1</th>\n",
       "      <td>1</td>\n",
       "      <td>Try talking with ChatGPT, our new AI system wh...</td>\n",
       "      <td>good</td>\n",
       "    </tr>\n",
       "    <tr>\n",
       "      <th>2</th>\n",
       "      <td>2</td>\n",
       "      <td>ChatGPT: Optimizing Language Models for Dialog...</td>\n",
       "      <td>neutral</td>\n",
       "    </tr>\n",
       "    <tr>\n",
       "      <th>3</th>\n",
       "      <td>3</td>\n",
       "      <td>THRILLED to share that ChatGPT, our new model ...</td>\n",
       "      <td>good</td>\n",
       "    </tr>\n",
       "    <tr>\n",
       "      <th>4</th>\n",
       "      <td>4</td>\n",
       "      <td>As of 2 minutes ago, @OpenAI released their ne...</td>\n",
       "      <td>bad</td>\n",
       "    </tr>\n",
       "  </tbody>\n",
       "</table>\n",
       "</div>"
      ],
      "text/plain": [
       "   Unnamed: 0                                             tweets   labels\n",
       "0           0  ChatGPT: Optimizing Language Models for Dialog...  neutral\n",
       "1           1  Try talking with ChatGPT, our new AI system wh...     good\n",
       "2           2  ChatGPT: Optimizing Language Models for Dialog...  neutral\n",
       "3           3  THRILLED to share that ChatGPT, our new model ...     good\n",
       "4           4  As of 2 minutes ago, @OpenAI released their ne...      bad"
      ]
     },
     "execution_count": 25,
     "metadata": {},
     "output_type": "execute_result"
    }
   ],
   "source": [
    "df = pd.read_csv(\"./file.csv/file.csv\")\n",
    "df.head()"
   ]
  },
  {
   "cell_type": "markdown",
   "id": "ddacbbda",
   "metadata": {},
   "source": [
    "### 刪除不必要的欄位"
   ]
  },
  {
   "cell_type": "code",
   "execution_count": 26,
   "id": "b6aecfb0",
   "metadata": {},
   "outputs": [
    {
     "data": {
      "text/html": [
       "<div>\n",
       "<style scoped>\n",
       "    .dataframe tbody tr th:only-of-type {\n",
       "        vertical-align: middle;\n",
       "    }\n",
       "\n",
       "    .dataframe tbody tr th {\n",
       "        vertical-align: top;\n",
       "    }\n",
       "\n",
       "    .dataframe thead th {\n",
       "        text-align: right;\n",
       "    }\n",
       "</style>\n",
       "<table border=\"1\" class=\"dataframe\">\n",
       "  <thead>\n",
       "    <tr style=\"text-align: right;\">\n",
       "      <th></th>\n",
       "      <th>tweets</th>\n",
       "      <th>labels</th>\n",
       "    </tr>\n",
       "  </thead>\n",
       "  <tbody>\n",
       "    <tr>\n",
       "      <th>0</th>\n",
       "      <td>ChatGPT: Optimizing Language Models for Dialog...</td>\n",
       "      <td>neutral</td>\n",
       "    </tr>\n",
       "    <tr>\n",
       "      <th>1</th>\n",
       "      <td>Try talking with ChatGPT, our new AI system wh...</td>\n",
       "      <td>good</td>\n",
       "    </tr>\n",
       "    <tr>\n",
       "      <th>2</th>\n",
       "      <td>ChatGPT: Optimizing Language Models for Dialog...</td>\n",
       "      <td>neutral</td>\n",
       "    </tr>\n",
       "    <tr>\n",
       "      <th>3</th>\n",
       "      <td>THRILLED to share that ChatGPT, our new model ...</td>\n",
       "      <td>good</td>\n",
       "    </tr>\n",
       "    <tr>\n",
       "      <th>4</th>\n",
       "      <td>As of 2 minutes ago, @OpenAI released their ne...</td>\n",
       "      <td>bad</td>\n",
       "    </tr>\n",
       "  </tbody>\n",
       "</table>\n",
       "</div>"
      ],
      "text/plain": [
       "                                              tweets   labels\n",
       "0  ChatGPT: Optimizing Language Models for Dialog...  neutral\n",
       "1  Try talking with ChatGPT, our new AI system wh...     good\n",
       "2  ChatGPT: Optimizing Language Models for Dialog...  neutral\n",
       "3  THRILLED to share that ChatGPT, our new model ...     good\n",
       "4  As of 2 minutes ago, @OpenAI released their ne...      bad"
      ]
     },
     "execution_count": 26,
     "metadata": {},
     "output_type": "execute_result"
    }
   ],
   "source": [
    "# Remove the 'Unnamed: 0' column\n",
    "\n",
    "df = df[['tweets', 'labels']]\n",
    "df.head()"
   ]
  },
  {
   "cell_type": "markdown",
   "id": "879f0e92",
   "metadata": {},
   "source": [
    "### 刪除文中的 https:// 網址"
   ]
  },
  {
   "cell_type": "code",
   "execution_count": 27,
   "id": "1935fa54",
   "metadata": {},
   "outputs": [
    {
     "data": {
      "text/html": [
       "<div>\n",
       "<style scoped>\n",
       "    .dataframe tbody tr th:only-of-type {\n",
       "        vertical-align: middle;\n",
       "    }\n",
       "\n",
       "    .dataframe tbody tr th {\n",
       "        vertical-align: top;\n",
       "    }\n",
       "\n",
       "    .dataframe thead th {\n",
       "        text-align: right;\n",
       "    }\n",
       "</style>\n",
       "<table border=\"1\" class=\"dataframe\">\n",
       "  <thead>\n",
       "    <tr style=\"text-align: right;\">\n",
       "      <th></th>\n",
       "      <th>tweets</th>\n",
       "      <th>labels</th>\n",
       "      <th>tweet_list</th>\n",
       "    </tr>\n",
       "  </thead>\n",
       "  <tbody>\n",
       "    <tr>\n",
       "      <th>0</th>\n",
       "      <td>ChatGPT: Optimizing Language Models for Dialog...</td>\n",
       "      <td>neutral</td>\n",
       "      <td>[ChatGPT: Optimizing Language Models for Dialo...</td>\n",
       "    </tr>\n",
       "    <tr>\n",
       "      <th>1</th>\n",
       "      <td>Try talking with ChatGPT, our new AI system wh...</td>\n",
       "      <td>good</td>\n",
       "      <td>[Try talking with ChatGPT, our new AI system w...</td>\n",
       "    </tr>\n",
       "    <tr>\n",
       "      <th>2</th>\n",
       "      <td>ChatGPT: Optimizing Language Models for Dialog...</td>\n",
       "      <td>neutral</td>\n",
       "      <td>[ChatGPT: Optimizing Language Models for Dialo...</td>\n",
       "    </tr>\n",
       "    <tr>\n",
       "      <th>3</th>\n",
       "      <td>THRILLED to share that ChatGPT, our new model ...</td>\n",
       "      <td>good</td>\n",
       "      <td>[THRILLED to share that ChatGPT, our new model...</td>\n",
       "    </tr>\n",
       "    <tr>\n",
       "      <th>4</th>\n",
       "      <td>As of 2 minutes ago, @OpenAI released their ne...</td>\n",
       "      <td>bad</td>\n",
       "      <td>[As of 2 minutes ago, @OpenAI released their n...</td>\n",
       "    </tr>\n",
       "  </tbody>\n",
       "</table>\n",
       "</div>"
      ],
      "text/plain": [
       "                                              tweets   labels  \\\n",
       "0  ChatGPT: Optimizing Language Models for Dialog...  neutral   \n",
       "1  Try talking with ChatGPT, our new AI system wh...     good   \n",
       "2  ChatGPT: Optimizing Language Models for Dialog...  neutral   \n",
       "3  THRILLED to share that ChatGPT, our new model ...     good   \n",
       "4  As of 2 minutes ago, @OpenAI released their ne...      bad   \n",
       "\n",
       "                                          tweet_list  \n",
       "0  [ChatGPT: Optimizing Language Models for Dialo...  \n",
       "1  [Try talking with ChatGPT, our new AI system w...  \n",
       "2  [ChatGPT: Optimizing Language Models for Dialo...  \n",
       "3  [THRILLED to share that ChatGPT, our new model...  \n",
       "4  [As of 2 minutes ago, @OpenAI released their n...  "
      ]
     },
     "execution_count": 27,
     "metadata": {},
     "output_type": "execute_result"
    }
   ],
   "source": [
    "# Remove all the tweet links since they all begin with https:\n",
    "\n",
    "df['tweet_list'] = df['tweets'].str.split('https:')\n",
    "df.head()"
   ]
  },
  {
   "cell_type": "markdown",
   "id": "a806001c",
   "metadata": {},
   "source": [
    "### 選取需要的欄位"
   ]
  },
  {
   "cell_type": "code",
   "execution_count": 28,
   "id": "2d532106",
   "metadata": {},
   "outputs": [
    {
     "data": {
      "text/html": [
       "<div>\n",
       "<style scoped>\n",
       "    .dataframe tbody tr th:only-of-type {\n",
       "        vertical-align: middle;\n",
       "    }\n",
       "\n",
       "    .dataframe tbody tr th {\n",
       "        vertical-align: top;\n",
       "    }\n",
       "\n",
       "    .dataframe thead th {\n",
       "        text-align: right;\n",
       "    }\n",
       "</style>\n",
       "<table border=\"1\" class=\"dataframe\">\n",
       "  <thead>\n",
       "    <tr style=\"text-align: right;\">\n",
       "      <th></th>\n",
       "      <th>text</th>\n",
       "      <th>labels</th>\n",
       "    </tr>\n",
       "  </thead>\n",
       "  <tbody>\n",
       "    <tr>\n",
       "      <th>0</th>\n",
       "      <td>ChatGPT: Optimizing Language Models for Dialogue</td>\n",
       "      <td>neutral</td>\n",
       "    </tr>\n",
       "    <tr>\n",
       "      <th>1</th>\n",
       "      <td>Try talking with ChatGPT, our new AI system wh...</td>\n",
       "      <td>good</td>\n",
       "    </tr>\n",
       "    <tr>\n",
       "      <th>2</th>\n",
       "      <td>ChatGPT: Optimizing Language Models for Dialogue</td>\n",
       "      <td>neutral</td>\n",
       "    </tr>\n",
       "    <tr>\n",
       "      <th>3</th>\n",
       "      <td>THRILLED to share that ChatGPT, our new model ...</td>\n",
       "      <td>good</td>\n",
       "    </tr>\n",
       "    <tr>\n",
       "      <th>4</th>\n",
       "      <td>As of 2 minutes ago, @OpenAI released their ne...</td>\n",
       "      <td>bad</td>\n",
       "    </tr>\n",
       "  </tbody>\n",
       "</table>\n",
       "</div>"
      ],
      "text/plain": [
       "                                                text   labels\n",
       "0  ChatGPT: Optimizing Language Models for Dialogue   neutral\n",
       "1  Try talking with ChatGPT, our new AI system wh...     good\n",
       "2  ChatGPT: Optimizing Language Models for Dialogue   neutral\n",
       "3  THRILLED to share that ChatGPT, our new model ...     good\n",
       "4  As of 2 minutes ago, @OpenAI released their ne...      bad"
      ]
     },
     "execution_count": 28,
     "metadata": {},
     "output_type": "execute_result"
    }
   ],
   "source": [
    "# Select the text part of the list\n",
    "\n",
    "text = [i[0] for i in df.tweet_list]\n",
    "df['text'] = text\n",
    "df = df[['text', 'labels']]\n",
    "df.head()"
   ]
  },
  {
   "cell_type": "markdown",
   "id": "6080f9ae",
   "metadata": {},
   "source": [
    "### 修改欄位名稱"
   ]
  },
  {
   "cell_type": "code",
   "execution_count": 29,
   "id": "f92f02fe",
   "metadata": {},
   "outputs": [
    {
     "data": {
      "text/html": [
       "<div>\n",
       "<style scoped>\n",
       "    .dataframe tbody tr th:only-of-type {\n",
       "        vertical-align: middle;\n",
       "    }\n",
       "\n",
       "    .dataframe tbody tr th {\n",
       "        vertical-align: top;\n",
       "    }\n",
       "\n",
       "    .dataframe thead th {\n",
       "        text-align: right;\n",
       "    }\n",
       "</style>\n",
       "<table border=\"1\" class=\"dataframe\">\n",
       "  <thead>\n",
       "    <tr style=\"text-align: right;\">\n",
       "      <th></th>\n",
       "      <th>description</th>\n",
       "      <th>label</th>\n",
       "    </tr>\n",
       "  </thead>\n",
       "  <tbody>\n",
       "    <tr>\n",
       "      <th>0</th>\n",
       "      <td>ChatGPT: Optimizing Language Models for Dialogue</td>\n",
       "      <td>neutral</td>\n",
       "    </tr>\n",
       "    <tr>\n",
       "      <th>1</th>\n",
       "      <td>Try talking with ChatGPT, our new AI system wh...</td>\n",
       "      <td>good</td>\n",
       "    </tr>\n",
       "    <tr>\n",
       "      <th>2</th>\n",
       "      <td>ChatGPT: Optimizing Language Models for Dialogue</td>\n",
       "      <td>neutral</td>\n",
       "    </tr>\n",
       "    <tr>\n",
       "      <th>3</th>\n",
       "      <td>THRILLED to share that ChatGPT, our new model ...</td>\n",
       "      <td>good</td>\n",
       "    </tr>\n",
       "    <tr>\n",
       "      <th>4</th>\n",
       "      <td>As of 2 minutes ago, @OpenAI released their ne...</td>\n",
       "      <td>bad</td>\n",
       "    </tr>\n",
       "  </tbody>\n",
       "</table>\n",
       "</div>"
      ],
      "text/plain": [
       "                                         description    label\n",
       "0  ChatGPT: Optimizing Language Models for Dialogue   neutral\n",
       "1  Try talking with ChatGPT, our new AI system wh...     good\n",
       "2  ChatGPT: Optimizing Language Models for Dialogue   neutral\n",
       "3  THRILLED to share that ChatGPT, our new model ...     good\n",
       "4  As of 2 minutes ago, @OpenAI released their ne...      bad"
      ]
     },
     "execution_count": 29,
     "metadata": {},
     "output_type": "execute_result"
    }
   ],
   "source": [
    "# Change the title: 'review' as 'description'; 'sentiment' as 'label'\n",
    "description = [i for i in df.text]\n",
    "label = [i for i in df.labels]\n",
    "df['description'] = description\n",
    "df['label'] = label\n",
    "df = df[['description', 'label']]\n",
    "df.head()"
   ]
  },
  {
   "cell_type": "markdown",
   "id": "e269ea70",
   "metadata": {},
   "source": [
    "### 將 label 內 'positive' 標註為 '1', 'neutral' 標註為'0', 'negative' 標註為 '-1'"
   ]
  },
  {
   "cell_type": "code",
   "execution_count": 30,
   "id": "6e1b9428",
   "metadata": {},
   "outputs": [
    {
     "data": {
      "text/html": [
       "<div>\n",
       "<style scoped>\n",
       "    .dataframe tbody tr th:only-of-type {\n",
       "        vertical-align: middle;\n",
       "    }\n",
       "\n",
       "    .dataframe tbody tr th {\n",
       "        vertical-align: top;\n",
       "    }\n",
       "\n",
       "    .dataframe thead th {\n",
       "        text-align: right;\n",
       "    }\n",
       "</style>\n",
       "<table border=\"1\" class=\"dataframe\">\n",
       "  <thead>\n",
       "    <tr style=\"text-align: right;\">\n",
       "      <th></th>\n",
       "      <th>description</th>\n",
       "      <th>label</th>\n",
       "    </tr>\n",
       "  </thead>\n",
       "  <tbody>\n",
       "    <tr>\n",
       "      <th>0</th>\n",
       "      <td>ChatGPT: Optimizing Language Models for Dialogue</td>\n",
       "      <td>0</td>\n",
       "    </tr>\n",
       "    <tr>\n",
       "      <th>1</th>\n",
       "      <td>Try talking with ChatGPT, our new AI system wh...</td>\n",
       "      <td>1</td>\n",
       "    </tr>\n",
       "    <tr>\n",
       "      <th>2</th>\n",
       "      <td>ChatGPT: Optimizing Language Models for Dialogue</td>\n",
       "      <td>0</td>\n",
       "    </tr>\n",
       "    <tr>\n",
       "      <th>3</th>\n",
       "      <td>THRILLED to share that ChatGPT, our new model ...</td>\n",
       "      <td>1</td>\n",
       "    </tr>\n",
       "    <tr>\n",
       "      <th>4</th>\n",
       "      <td>As of 2 minutes ago, @OpenAI released their ne...</td>\n",
       "      <td>-1</td>\n",
       "    </tr>\n",
       "  </tbody>\n",
       "</table>\n",
       "</div>"
      ],
      "text/plain": [
       "                                         description  label\n",
       "0  ChatGPT: Optimizing Language Models for Dialogue       0\n",
       "1  Try talking with ChatGPT, our new AI system wh...      1\n",
       "2  ChatGPT: Optimizing Language Models for Dialogue       0\n",
       "3  THRILLED to share that ChatGPT, our new model ...      1\n",
       "4  As of 2 minutes ago, @OpenAI released their ne...     -1"
      ]
     },
     "execution_count": 30,
     "metadata": {},
     "output_type": "execute_result"
    }
   ],
   "source": [
    "# Mark the 'good' as '1','neutral' as '0', and 'bad' as '-1'\n",
    "df['label'] = np.where(df['label']=='good', 1, np.where(df['label']=='bad', -1, 0))\n",
    "df.head()"
   ]
  },
  {
   "cell_type": "code",
   "execution_count": 31,
   "id": "06abec24",
   "metadata": {},
   "outputs": [],
   "source": [
    "# 分割訓練集和測試集\n",
    "X_train, X_test, y_train, y_test = train_test_split(df['description'], df['label'], test_size=0.2)"
   ]
  },
  {
   "cell_type": "code",
   "execution_count": 32,
   "id": "052edc62",
   "metadata": {},
   "outputs": [],
   "source": [
    "# 將文本轉換為數字序列\n",
    "tokenizer = Tokenizer(num_words=10000)\n",
    "tokenizer.fit_on_texts(X_train)\n",
    "\n",
    "X_train_seq = tokenizer.texts_to_sequences(X_train)\n",
    "X_test_seq = tokenizer.texts_to_sequences(X_test)"
   ]
  },
  {
   "cell_type": "code",
   "execution_count": 33,
   "id": "f1f36035",
   "metadata": {},
   "outputs": [],
   "source": [
    "# 填充序列,使其長度相同\n",
    "maxlen = 100\n",
    "X_train_pad = pad_sequences(X_train_seq, maxlen=maxlen)\n",
    "X_test_pad = pad_sequences(X_test_seq, maxlen=maxlen)"
   ]
  },
  {
   "cell_type": "markdown",
   "id": "c4535747",
   "metadata": {},
   "source": [
    "## 定義模型"
   ]
  },
  {
   "cell_type": "code",
   "execution_count": 34,
   "id": "84253294",
   "metadata": {},
   "outputs": [],
   "source": [
    "#定義模型\n",
    "model = Sequential()\n",
    "model.add(LSTM(64, input_shape=(maxlen, 1)))\n",
    "model.add(Dense(1, activation='sigmoid'))"
   ]
  },
  {
   "cell_type": "markdown",
   "id": "9dd1ec5c",
   "metadata": {},
   "source": [
    "## 編譯模型"
   ]
  },
  {
   "cell_type": "code",
   "execution_count": 35,
   "id": "eb3b3c77",
   "metadata": {},
   "outputs": [],
   "source": [
    "#編譯模型\n",
    "model.compile(loss='binary_crossentropy', optimizer='adam', metrics=['accuracy'])"
   ]
  },
  {
   "cell_type": "markdown",
   "id": "4f3a411f",
   "metadata": {},
   "source": [
    "## 訓練模型"
   ]
  },
  {
   "cell_type": "code",
   "execution_count": 36,
   "id": "52e789e5",
   "metadata": {},
   "outputs": [
    {
     "name": "stdout",
     "output_type": "stream",
     "text": [
      "Epoch 1/5\n",
      "5483/5483 [==============================] - 301s 54ms/step - loss: -39.3837 - accuracy: 0.2525 - val_loss: -73.3383 - val_accuracy: 0.2550\n",
      "Epoch 2/5\n",
      "5483/5483 [==============================] - 287s 52ms/step - loss: -110.8800 - accuracy: 0.2525 - val_loss: -143.0847 - val_accuracy: 0.2550\n",
      "Epoch 3/5\n",
      "5483/5483 [==============================] - 290s 53ms/step - loss: -182.4333 - accuracy: 0.2525 - val_loss: -212.9600 - val_accuracy: 0.2550\n",
      "Epoch 4/5\n",
      "5483/5483 [==============================] - 369s 67ms/step - loss: -253.9699 - accuracy: 0.2525 - val_loss: -282.3656 - val_accuracy: 0.2550\n",
      "Epoch 5/5\n",
      "5483/5483 [==============================] - 435s 79ms/step - loss: -325.1219 - accuracy: 0.2525 - val_loss: -351.6226 - val_accuracy: 0.2550\n"
     ]
    },
    {
     "data": {
      "text/plain": [
       "<keras.callbacks.History at 0x16506608e20>"
      ]
     },
     "execution_count": 36,
     "metadata": {},
     "output_type": "execute_result"
    }
   ],
   "source": [
    "#訓練模型\n",
    "model.fit(X_train_pad, y_train, validation_data=(X_test_pad, y_test), epochs=5, batch_size=32)"
   ]
  },
  {
   "cell_type": "markdown",
   "id": "47a7e353",
   "metadata": {},
   "source": [
    "## 評估模型"
   ]
  },
  {
   "cell_type": "code",
   "execution_count": 37,
   "id": "c496270d",
   "metadata": {},
   "outputs": [
    {
     "name": "stdout",
     "output_type": "stream",
     "text": [
      "1371/1371 [==============================] - 36s 26ms/step - loss: -351.6226 - accuracy: 0.2550\n",
      "Test accuracy: 0.25497618317604065\n"
     ]
    }
   ],
   "source": [
    "#評估模型\n",
    "loss, acc = model.evaluate(X_test_pad, y_test, batch_size=32)\n",
    "print('Test accuracy:', acc)"
   ]
  },
  {
   "cell_type": "markdown",
   "id": "3f5bbaca",
   "metadata": {},
   "source": [
    "## 將測試的語句轉為索引後，預測"
   ]
  },
  {
   "cell_type": "code",
   "execution_count": 39,
   "id": "8561c57a",
   "metadata": {},
   "outputs": [
    {
     "name": "stdout",
     "output_type": "stream",
     "text": [
      "1/1 [==============================] - 0s 26ms/step\n"
     ]
    },
    {
     "data": {
      "text/plain": [
       "array([[0.]], dtype=float32)"
      ]
     },
     "execution_count": 39,
     "metadata": {},
     "output_type": "execute_result"
    }
   ],
   "source": [
    "x = ['ChatGPT is optimizing language models for dialogue.']\n",
    "test_sequences = tokenizer.texts_to_sequences(x)\n",
    "\n",
    "# Pad the testing sequences\n",
    "test_padded = pad_sequences(test_sequences, maxlen=maxlen)\n",
    "\n",
    "model.predict(test_padded)"
   ]
  },
  {
   "cell_type": "code",
   "execution_count": 40,
   "id": "b133f860",
   "metadata": {},
   "outputs": [
    {
     "name": "stdout",
     "output_type": "stream",
     "text": [
      "1/1 [==============================] - 0s 33ms/step\n"
     ]
    },
    {
     "data": {
      "text/plain": [
       "array([[0.]], dtype=float32)"
      ]
     },
     "execution_count": 40,
     "metadata": {},
     "output_type": "execute_result"
    }
   ],
   "source": [
    "x = ['Bad model.']\n",
    "test_sequences = tokenizer.texts_to_sequences(x)\n",
    "\n",
    "# Pad the testing sequences\n",
    "test_padded = pad_sequences(test_sequences, maxlen=maxlen)\n",
    "\n",
    "model.predict(test_padded)"
   ]
  },
  {
   "cell_type": "code",
   "execution_count": 41,
   "id": "105e9a2c",
   "metadata": {},
   "outputs": [
    {
     "name": "stdout",
     "output_type": "stream",
     "text": [
      "1/1 [==============================] - 0s 43ms/step\n"
     ]
    },
    {
     "data": {
      "text/plain": [
       "array([[0.]], dtype=float32)"
      ]
     },
     "execution_count": 41,
     "metadata": {},
     "output_type": "execute_result"
    }
   ],
   "source": [
    "x = ['The ChatGPT model is good today.']\n",
    "test_sequences = tokenizer.texts_to_sequences(x)\n",
    "\n",
    "# Pad the testing sequences\n",
    "test_padded = pad_sequences(test_sequences, maxlen=maxlen)\n",
    "\n",
    "model.predict(test_padded)"
   ]
  },
  {
   "cell_type": "code",
   "execution_count": null,
   "id": "27702cec",
   "metadata": {},
   "outputs": [],
   "source": []
  }
 ],
 "metadata": {
  "kernelspec": {
   "display_name": "Python 3 (ipykernel)",
   "language": "python",
   "name": "python3"
  },
  "language_info": {
   "codemirror_mode": {
    "name": "ipython",
    "version": 3
   },
   "file_extension": ".py",
   "mimetype": "text/x-python",
   "name": "python",
   "nbconvert_exporter": "python",
   "pygments_lexer": "ipython3",
   "version": "3.9.12"
  }
 },
 "nbformat": 4,
 "nbformat_minor": 5
}
