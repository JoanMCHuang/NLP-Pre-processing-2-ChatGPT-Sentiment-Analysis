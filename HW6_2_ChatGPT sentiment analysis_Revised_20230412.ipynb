{
 "cells": [
  {
   "cell_type": "markdown",
   "id": "b8d19eda",
   "metadata": {},
   "source": [
    "## 套件引入 及 資料前處理"
   ]
  },
  {
   "cell_type": "code",
   "execution_count": 1,
   "id": "860b0b2a",
   "metadata": {},
   "outputs": [],
   "source": [
    "from nltk.tokenize import word_tokenize\n",
    "from nltk.corpus import stopwords\n",
    "from nltk.stem import PorterStemmer\n",
    "from sklearn.model_selection import train_test_split\n",
    "from keras.preprocessing.text import Tokenizer\n",
    "from keras_preprocessing.sequence import pad_sequences\n",
    "from tensorflow.keras.layers import Activation, Dense, Embedding, LSTM, Bidirectional\n",
    "from tensorflow.keras.models import Sequential\n",
    "import matplotlib.pyplot as plt\n",
    "from wordcloud import WordCloud\n",
    "from math import log, sqrt\n",
    "import pandas as pd\n",
    "import numpy as np\n",
    "%matplotlib inline"
   ]
  },
  {
   "cell_type": "code",
   "execution_count": 2,
   "id": "f4205396",
   "metadata": {},
   "outputs": [
    {
     "data": {
      "text/html": [
       "<div>\n",
       "<style scoped>\n",
       "    .dataframe tbody tr th:only-of-type {\n",
       "        vertical-align: middle;\n",
       "    }\n",
       "\n",
       "    .dataframe tbody tr th {\n",
       "        vertical-align: top;\n",
       "    }\n",
       "\n",
       "    .dataframe thead th {\n",
       "        text-align: right;\n",
       "    }\n",
       "</style>\n",
       "<table border=\"1\" class=\"dataframe\">\n",
       "  <thead>\n",
       "    <tr style=\"text-align: right;\">\n",
       "      <th></th>\n",
       "      <th>Unnamed: 0</th>\n",
       "      <th>tweets</th>\n",
       "      <th>labels</th>\n",
       "    </tr>\n",
       "  </thead>\n",
       "  <tbody>\n",
       "    <tr>\n",
       "      <th>0</th>\n",
       "      <td>0</td>\n",
       "      <td>ChatGPT: Optimizing Language Models for Dialog...</td>\n",
       "      <td>neutral</td>\n",
       "    </tr>\n",
       "    <tr>\n",
       "      <th>1</th>\n",
       "      <td>1</td>\n",
       "      <td>Try talking with ChatGPT, our new AI system wh...</td>\n",
       "      <td>good</td>\n",
       "    </tr>\n",
       "    <tr>\n",
       "      <th>2</th>\n",
       "      <td>2</td>\n",
       "      <td>ChatGPT: Optimizing Language Models for Dialog...</td>\n",
       "      <td>neutral</td>\n",
       "    </tr>\n",
       "    <tr>\n",
       "      <th>3</th>\n",
       "      <td>3</td>\n",
       "      <td>THRILLED to share that ChatGPT, our new model ...</td>\n",
       "      <td>good</td>\n",
       "    </tr>\n",
       "    <tr>\n",
       "      <th>4</th>\n",
       "      <td>4</td>\n",
       "      <td>As of 2 minutes ago, @OpenAI released their ne...</td>\n",
       "      <td>bad</td>\n",
       "    </tr>\n",
       "  </tbody>\n",
       "</table>\n",
       "</div>"
      ],
      "text/plain": [
       "   Unnamed: 0                                             tweets   labels\n",
       "0           0  ChatGPT: Optimizing Language Models for Dialog...  neutral\n",
       "1           1  Try talking with ChatGPT, our new AI system wh...     good\n",
       "2           2  ChatGPT: Optimizing Language Models for Dialog...  neutral\n",
       "3           3  THRILLED to share that ChatGPT, our new model ...     good\n",
       "4           4  As of 2 minutes ago, @OpenAI released their ne...      bad"
      ]
     },
     "execution_count": 2,
     "metadata": {},
     "output_type": "execute_result"
    }
   ],
   "source": [
    "df = pd.read_csv(\"./file.csv/file.csv\")\n",
    "df.head()"
   ]
  },
  {
   "cell_type": "markdown",
   "id": "ddacbbda",
   "metadata": {},
   "source": [
    "### 刪除不必要的欄位"
   ]
  },
  {
   "cell_type": "code",
   "execution_count": 3,
   "id": "b6aecfb0",
   "metadata": {},
   "outputs": [
    {
     "data": {
      "text/html": [
       "<div>\n",
       "<style scoped>\n",
       "    .dataframe tbody tr th:only-of-type {\n",
       "        vertical-align: middle;\n",
       "    }\n",
       "\n",
       "    .dataframe tbody tr th {\n",
       "        vertical-align: top;\n",
       "    }\n",
       "\n",
       "    .dataframe thead th {\n",
       "        text-align: right;\n",
       "    }\n",
       "</style>\n",
       "<table border=\"1\" class=\"dataframe\">\n",
       "  <thead>\n",
       "    <tr style=\"text-align: right;\">\n",
       "      <th></th>\n",
       "      <th>tweets</th>\n",
       "      <th>labels</th>\n",
       "    </tr>\n",
       "  </thead>\n",
       "  <tbody>\n",
       "    <tr>\n",
       "      <th>0</th>\n",
       "      <td>ChatGPT: Optimizing Language Models for Dialog...</td>\n",
       "      <td>neutral</td>\n",
       "    </tr>\n",
       "    <tr>\n",
       "      <th>1</th>\n",
       "      <td>Try talking with ChatGPT, our new AI system wh...</td>\n",
       "      <td>good</td>\n",
       "    </tr>\n",
       "    <tr>\n",
       "      <th>2</th>\n",
       "      <td>ChatGPT: Optimizing Language Models for Dialog...</td>\n",
       "      <td>neutral</td>\n",
       "    </tr>\n",
       "    <tr>\n",
       "      <th>3</th>\n",
       "      <td>THRILLED to share that ChatGPT, our new model ...</td>\n",
       "      <td>good</td>\n",
       "    </tr>\n",
       "    <tr>\n",
       "      <th>4</th>\n",
       "      <td>As of 2 minutes ago, @OpenAI released their ne...</td>\n",
       "      <td>bad</td>\n",
       "    </tr>\n",
       "  </tbody>\n",
       "</table>\n",
       "</div>"
      ],
      "text/plain": [
       "                                              tweets   labels\n",
       "0  ChatGPT: Optimizing Language Models for Dialog...  neutral\n",
       "1  Try talking with ChatGPT, our new AI system wh...     good\n",
       "2  ChatGPT: Optimizing Language Models for Dialog...  neutral\n",
       "3  THRILLED to share that ChatGPT, our new model ...     good\n",
       "4  As of 2 minutes ago, @OpenAI released their ne...      bad"
      ]
     },
     "execution_count": 3,
     "metadata": {},
     "output_type": "execute_result"
    }
   ],
   "source": [
    "# Remove the 'Unnamed: 0' column\n",
    "\n",
    "df = df[['tweets', 'labels']]\n",
    "df.head()"
   ]
  },
  {
   "cell_type": "markdown",
   "id": "879f0e92",
   "metadata": {},
   "source": [
    "### 刪除文中的 https:// 網址"
   ]
  },
  {
   "cell_type": "code",
   "execution_count": 4,
   "id": "1935fa54",
   "metadata": {},
   "outputs": [
    {
     "data": {
      "text/html": [
       "<div>\n",
       "<style scoped>\n",
       "    .dataframe tbody tr th:only-of-type {\n",
       "        vertical-align: middle;\n",
       "    }\n",
       "\n",
       "    .dataframe tbody tr th {\n",
       "        vertical-align: top;\n",
       "    }\n",
       "\n",
       "    .dataframe thead th {\n",
       "        text-align: right;\n",
       "    }\n",
       "</style>\n",
       "<table border=\"1\" class=\"dataframe\">\n",
       "  <thead>\n",
       "    <tr style=\"text-align: right;\">\n",
       "      <th></th>\n",
       "      <th>tweets</th>\n",
       "      <th>labels</th>\n",
       "      <th>tweet_list</th>\n",
       "    </tr>\n",
       "  </thead>\n",
       "  <tbody>\n",
       "    <tr>\n",
       "      <th>0</th>\n",
       "      <td>ChatGPT: Optimizing Language Models for Dialog...</td>\n",
       "      <td>neutral</td>\n",
       "      <td>[ChatGPT: Optimizing Language Models for Dialo...</td>\n",
       "    </tr>\n",
       "    <tr>\n",
       "      <th>1</th>\n",
       "      <td>Try talking with ChatGPT, our new AI system wh...</td>\n",
       "      <td>good</td>\n",
       "      <td>[Try talking with ChatGPT, our new AI system w...</td>\n",
       "    </tr>\n",
       "    <tr>\n",
       "      <th>2</th>\n",
       "      <td>ChatGPT: Optimizing Language Models for Dialog...</td>\n",
       "      <td>neutral</td>\n",
       "      <td>[ChatGPT: Optimizing Language Models for Dialo...</td>\n",
       "    </tr>\n",
       "    <tr>\n",
       "      <th>3</th>\n",
       "      <td>THRILLED to share that ChatGPT, our new model ...</td>\n",
       "      <td>good</td>\n",
       "      <td>[THRILLED to share that ChatGPT, our new model...</td>\n",
       "    </tr>\n",
       "    <tr>\n",
       "      <th>4</th>\n",
       "      <td>As of 2 minutes ago, @OpenAI released their ne...</td>\n",
       "      <td>bad</td>\n",
       "      <td>[As of 2 minutes ago, @OpenAI released their n...</td>\n",
       "    </tr>\n",
       "  </tbody>\n",
       "</table>\n",
       "</div>"
      ],
      "text/plain": [
       "                                              tweets   labels  \\\n",
       "0  ChatGPT: Optimizing Language Models for Dialog...  neutral   \n",
       "1  Try talking with ChatGPT, our new AI system wh...     good   \n",
       "2  ChatGPT: Optimizing Language Models for Dialog...  neutral   \n",
       "3  THRILLED to share that ChatGPT, our new model ...     good   \n",
       "4  As of 2 minutes ago, @OpenAI released their ne...      bad   \n",
       "\n",
       "                                          tweet_list  \n",
       "0  [ChatGPT: Optimizing Language Models for Dialo...  \n",
       "1  [Try talking with ChatGPT, our new AI system w...  \n",
       "2  [ChatGPT: Optimizing Language Models for Dialo...  \n",
       "3  [THRILLED to share that ChatGPT, our new model...  \n",
       "4  [As of 2 minutes ago, @OpenAI released their n...  "
      ]
     },
     "execution_count": 4,
     "metadata": {},
     "output_type": "execute_result"
    }
   ],
   "source": [
    "# Remove all the tweet links since they all begin with https:\n",
    "\n",
    "df['tweet_list'] = df['tweets'].str.split('https:')\n",
    "df.head()"
   ]
  },
  {
   "cell_type": "markdown",
   "id": "a806001c",
   "metadata": {},
   "source": [
    "### 選取需要的欄位"
   ]
  },
  {
   "cell_type": "code",
   "execution_count": 5,
   "id": "2d532106",
   "metadata": {},
   "outputs": [
    {
     "data": {
      "text/html": [
       "<div>\n",
       "<style scoped>\n",
       "    .dataframe tbody tr th:only-of-type {\n",
       "        vertical-align: middle;\n",
       "    }\n",
       "\n",
       "    .dataframe tbody tr th {\n",
       "        vertical-align: top;\n",
       "    }\n",
       "\n",
       "    .dataframe thead th {\n",
       "        text-align: right;\n",
       "    }\n",
       "</style>\n",
       "<table border=\"1\" class=\"dataframe\">\n",
       "  <thead>\n",
       "    <tr style=\"text-align: right;\">\n",
       "      <th></th>\n",
       "      <th>text</th>\n",
       "      <th>labels</th>\n",
       "    </tr>\n",
       "  </thead>\n",
       "  <tbody>\n",
       "    <tr>\n",
       "      <th>0</th>\n",
       "      <td>ChatGPT: Optimizing Language Models for Dialogue</td>\n",
       "      <td>neutral</td>\n",
       "    </tr>\n",
       "    <tr>\n",
       "      <th>1</th>\n",
       "      <td>Try talking with ChatGPT, our new AI system wh...</td>\n",
       "      <td>good</td>\n",
       "    </tr>\n",
       "    <tr>\n",
       "      <th>2</th>\n",
       "      <td>ChatGPT: Optimizing Language Models for Dialogue</td>\n",
       "      <td>neutral</td>\n",
       "    </tr>\n",
       "    <tr>\n",
       "      <th>3</th>\n",
       "      <td>THRILLED to share that ChatGPT, our new model ...</td>\n",
       "      <td>good</td>\n",
       "    </tr>\n",
       "    <tr>\n",
       "      <th>4</th>\n",
       "      <td>As of 2 minutes ago, @OpenAI released their ne...</td>\n",
       "      <td>bad</td>\n",
       "    </tr>\n",
       "  </tbody>\n",
       "</table>\n",
       "</div>"
      ],
      "text/plain": [
       "                                                text   labels\n",
       "0  ChatGPT: Optimizing Language Models for Dialogue   neutral\n",
       "1  Try talking with ChatGPT, our new AI system wh...     good\n",
       "2  ChatGPT: Optimizing Language Models for Dialogue   neutral\n",
       "3  THRILLED to share that ChatGPT, our new model ...     good\n",
       "4  As of 2 minutes ago, @OpenAI released their ne...      bad"
      ]
     },
     "execution_count": 5,
     "metadata": {},
     "output_type": "execute_result"
    }
   ],
   "source": [
    "# Select the text part of the list\n",
    "\n",
    "text = [i[0] for i in df.tweet_list]\n",
    "df['text'] = text\n",
    "df = df[['text', 'labels']]\n",
    "df.head()"
   ]
  },
  {
   "cell_type": "markdown",
   "id": "6080f9ae",
   "metadata": {},
   "source": [
    "### 修改欄位名稱"
   ]
  },
  {
   "cell_type": "code",
   "execution_count": 6,
   "id": "f92f02fe",
   "metadata": {},
   "outputs": [
    {
     "data": {
      "text/html": [
       "<div>\n",
       "<style scoped>\n",
       "    .dataframe tbody tr th:only-of-type {\n",
       "        vertical-align: middle;\n",
       "    }\n",
       "\n",
       "    .dataframe tbody tr th {\n",
       "        vertical-align: top;\n",
       "    }\n",
       "\n",
       "    .dataframe thead th {\n",
       "        text-align: right;\n",
       "    }\n",
       "</style>\n",
       "<table border=\"1\" class=\"dataframe\">\n",
       "  <thead>\n",
       "    <tr style=\"text-align: right;\">\n",
       "      <th></th>\n",
       "      <th>description</th>\n",
       "      <th>label</th>\n",
       "    </tr>\n",
       "  </thead>\n",
       "  <tbody>\n",
       "    <tr>\n",
       "      <th>0</th>\n",
       "      <td>ChatGPT: Optimizing Language Models for Dialogue</td>\n",
       "      <td>neutral</td>\n",
       "    </tr>\n",
       "    <tr>\n",
       "      <th>1</th>\n",
       "      <td>Try talking with ChatGPT, our new AI system wh...</td>\n",
       "      <td>good</td>\n",
       "    </tr>\n",
       "    <tr>\n",
       "      <th>2</th>\n",
       "      <td>ChatGPT: Optimizing Language Models for Dialogue</td>\n",
       "      <td>neutral</td>\n",
       "    </tr>\n",
       "    <tr>\n",
       "      <th>3</th>\n",
       "      <td>THRILLED to share that ChatGPT, our new model ...</td>\n",
       "      <td>good</td>\n",
       "    </tr>\n",
       "    <tr>\n",
       "      <th>4</th>\n",
       "      <td>As of 2 minutes ago, @OpenAI released their ne...</td>\n",
       "      <td>bad</td>\n",
       "    </tr>\n",
       "  </tbody>\n",
       "</table>\n",
       "</div>"
      ],
      "text/plain": [
       "                                         description    label\n",
       "0  ChatGPT: Optimizing Language Models for Dialogue   neutral\n",
       "1  Try talking with ChatGPT, our new AI system wh...     good\n",
       "2  ChatGPT: Optimizing Language Models for Dialogue   neutral\n",
       "3  THRILLED to share that ChatGPT, our new model ...     good\n",
       "4  As of 2 minutes ago, @OpenAI released their ne...      bad"
      ]
     },
     "execution_count": 6,
     "metadata": {},
     "output_type": "execute_result"
    }
   ],
   "source": [
    "# Change the title: 'review' as 'description'; 'sentiment' as 'label'\n",
    "description = [i for i in df.text]\n",
    "label = [i for i in df.labels]\n",
    "df['description'] = description\n",
    "df['label'] = label\n",
    "df = df[['description', 'label']]\n",
    "df.head()"
   ]
  },
  {
   "cell_type": "markdown",
   "id": "e269ea70",
   "metadata": {},
   "source": [
    "### 將 label 內 'positive' 標註為 '1', 'neutral' 標註為'0', 'negative' 標註為 '-1'"
   ]
  },
  {
   "cell_type": "code",
   "execution_count": 7,
   "id": "6e1b9428",
   "metadata": {},
   "outputs": [
    {
     "data": {
      "text/html": [
       "<div>\n",
       "<style scoped>\n",
       "    .dataframe tbody tr th:only-of-type {\n",
       "        vertical-align: middle;\n",
       "    }\n",
       "\n",
       "    .dataframe tbody tr th {\n",
       "        vertical-align: top;\n",
       "    }\n",
       "\n",
       "    .dataframe thead th {\n",
       "        text-align: right;\n",
       "    }\n",
       "</style>\n",
       "<table border=\"1\" class=\"dataframe\">\n",
       "  <thead>\n",
       "    <tr style=\"text-align: right;\">\n",
       "      <th></th>\n",
       "      <th>description</th>\n",
       "      <th>label</th>\n",
       "    </tr>\n",
       "  </thead>\n",
       "  <tbody>\n",
       "    <tr>\n",
       "      <th>0</th>\n",
       "      <td>ChatGPT: Optimizing Language Models for Dialogue</td>\n",
       "      <td>0</td>\n",
       "    </tr>\n",
       "    <tr>\n",
       "      <th>1</th>\n",
       "      <td>Try talking with ChatGPT, our new AI system wh...</td>\n",
       "      <td>1</td>\n",
       "    </tr>\n",
       "    <tr>\n",
       "      <th>2</th>\n",
       "      <td>ChatGPT: Optimizing Language Models for Dialogue</td>\n",
       "      <td>0</td>\n",
       "    </tr>\n",
       "    <tr>\n",
       "      <th>3</th>\n",
       "      <td>THRILLED to share that ChatGPT, our new model ...</td>\n",
       "      <td>1</td>\n",
       "    </tr>\n",
       "    <tr>\n",
       "      <th>4</th>\n",
       "      <td>As of 2 minutes ago, @OpenAI released their ne...</td>\n",
       "      <td>-1</td>\n",
       "    </tr>\n",
       "  </tbody>\n",
       "</table>\n",
       "</div>"
      ],
      "text/plain": [
       "                                         description  label\n",
       "0  ChatGPT: Optimizing Language Models for Dialogue       0\n",
       "1  Try talking with ChatGPT, our new AI system wh...      1\n",
       "2  ChatGPT: Optimizing Language Models for Dialogue       0\n",
       "3  THRILLED to share that ChatGPT, our new model ...      1\n",
       "4  As of 2 minutes ago, @OpenAI released their ne...     -1"
      ]
     },
     "execution_count": 7,
     "metadata": {},
     "output_type": "execute_result"
    }
   ],
   "source": [
    "# Mark the 'good' as '1','neutral' as '0', and 'bad' as '-1'\n",
    "df['label'] = np.where(df['label']=='good', 1, np.where(df['label']=='bad', -1, 0))\n",
    "df.head()"
   ]
  },
  {
   "cell_type": "code",
   "execution_count": 8,
   "id": "06abec24",
   "metadata": {},
   "outputs": [],
   "source": [
    "# 分割訓練集和測試集\n",
    "X_train, X_test, y_train, y_test = train_test_split(df['description'], df['label'], test_size=0.2)"
   ]
  },
  {
   "cell_type": "code",
   "execution_count": 9,
   "id": "052edc62",
   "metadata": {},
   "outputs": [],
   "source": [
    "# 將文本轉換為數字序列\n",
    "tokenizer = Tokenizer(num_words=10000)\n",
    "tokenizer.fit_on_texts(X_train)\n",
    "\n",
    "X_train_seq = tokenizer.texts_to_sequences(X_train)\n",
    "X_test_seq = tokenizer.texts_to_sequences(X_test)"
   ]
  },
  {
   "cell_type": "code",
   "execution_count": 10,
   "id": "f1f36035",
   "metadata": {},
   "outputs": [],
   "source": [
    "# 填充序列,使其長度相同\n",
    "maxlen = 100\n",
    "X_train_pad = pad_sequences(X_train_seq, maxlen=maxlen)\n",
    "X_test_pad = pad_sequences(X_test_seq, maxlen=maxlen)"
   ]
  },
  {
   "cell_type": "markdown",
   "id": "c4535747",
   "metadata": {},
   "source": [
    "## 定義模型"
   ]
  },
  {
   "cell_type": "code",
   "execution_count": 11,
   "id": "84253294",
   "metadata": {},
   "outputs": [],
   "source": [
    "#定義模型\n",
    "model = Sequential()\n",
    "model.add(LSTM(64, input_shape=(maxlen, 1)))\n",
    "model.add(Dense(1, activation='softmax'))  #應使用 softmax 或直接刪除"
   ]
  },
  {
   "cell_type": "markdown",
   "id": "9dd1ec5c",
   "metadata": {},
   "source": [
    "## 編譯模型"
   ]
  },
  {
   "cell_type": "code",
   "execution_count": 12,
   "id": "eb3b3c77",
   "metadata": {},
   "outputs": [],
   "source": [
    "#編譯模型\n",
    "model.compile(loss='binary_crossentropy', optimizer='adam', metrics=['accuracy'])"
   ]
  },
  {
   "cell_type": "markdown",
   "id": "4f3a411f",
   "metadata": {},
   "source": [
    "## 訓練模型"
   ]
  },
  {
   "cell_type": "code",
   "execution_count": 13,
   "id": "52e789e5",
   "metadata": {},
   "outputs": [
    {
     "name": "stdout",
     "output_type": "stream",
     "text": [
      "Epoch 1/15\n",
      "5483/5483 [==============================] - 310s 56ms/step - loss: -38.2478 - accuracy: 0.2558 - val_loss: -75.7445 - val_accuracy: 0.2539\n",
      "Epoch 2/15\n",
      "5483/5483 [==============================] - 282s 51ms/step - loss: -110.0037 - accuracy: 0.2558 - val_loss: -148.5142 - val_accuracy: 0.2539\n",
      "Epoch 3/15\n",
      "5483/5483 [==============================] - 251s 46ms/step - loss: -182.1761 - accuracy: 0.2558 - val_loss: -221.7513 - val_accuracy: 0.2539\n",
      "Epoch 4/15\n",
      "5483/5483 [==============================] - 321s 59ms/step - loss: -253.8418 - accuracy: 0.2558 - val_loss: -293.8283 - val_accuracy: 0.2539\n",
      "Epoch 5/15\n",
      "5483/5483 [==============================] - 256s 47ms/step - loss: -325.5043 - accuracy: 0.2558 - val_loss: -367.5163 - val_accuracy: 0.2539\n",
      "Epoch 6/15\n",
      "5483/5483 [==============================] - 255s 47ms/step - loss: -387.3332 - accuracy: 0.2558 - val_loss: -429.0525 - val_accuracy: 0.2539\n",
      "Epoch 7/15\n",
      "5483/5483 [==============================] - 368s 67ms/step - loss: -457.5849 - accuracy: 0.2558 - val_loss: -500.3922 - val_accuracy: 0.2539\n",
      "Epoch 8/15\n",
      "5483/5483 [==============================] - 326s 59ms/step - loss: -528.8738 - accuracy: 0.2558 - val_loss: -574.1494 - val_accuracy: 0.2539\n",
      "Epoch 9/15\n",
      "5483/5483 [==============================] - 284s 52ms/step - loss: -600.3627 - accuracy: 0.2558 - val_loss: -646.2648 - val_accuracy: 0.2539\n",
      "Epoch 10/15\n",
      "5483/5483 [==============================] - 419s 76ms/step - loss: -674.9824 - accuracy: 0.2558 - val_loss: -724.2578 - val_accuracy: 0.2539\n",
      "Epoch 11/15\n",
      "5483/5483 [==============================] - 252s 46ms/step - loss: -748.6313 - accuracy: 0.2558 - val_loss: -797.4384 - val_accuracy: 0.2539\n",
      "Epoch 12/15\n",
      "5483/5483 [==============================] - 246s 45ms/step - loss: -823.5437 - accuracy: 0.2558 - val_loss: -876.0197 - val_accuracy: 0.2539\n",
      "Epoch 13/15\n",
      "5483/5483 [==============================] - 239s 44ms/step - loss: -898.9941 - accuracy: 0.2558 - val_loss: -950.3038 - val_accuracy: 0.2539\n",
      "Epoch 14/15\n",
      "5483/5483 [==============================] - 241s 44ms/step - loss: -975.9540 - accuracy: 0.2558 - val_loss: -1030.1769 - val_accuracy: 0.2539\n",
      "Epoch 15/15\n",
      "5483/5483 [==============================] - 248s 45ms/step - loss: -1044.1091 - accuracy: 0.2558 - val_loss: -1073.4672 - val_accuracy: 0.2539\n"
     ]
    },
    {
     "data": {
      "text/plain": [
       "<keras.callbacks.History at 0x1804d7c1a00>"
      ]
     },
     "execution_count": 13,
     "metadata": {},
     "output_type": "execute_result"
    }
   ],
   "source": [
    "#訓練模型\n",
    "model.fit(X_train_pad, y_train, validation_data=(X_test_pad, y_test), epochs=15, batch_size=32)"
   ]
  },
  {
   "cell_type": "markdown",
   "id": "47a7e353",
   "metadata": {},
   "source": [
    "## 評估模型"
   ]
  },
  {
   "cell_type": "code",
   "execution_count": 14,
   "id": "c496270d",
   "metadata": {},
   "outputs": [
    {
     "name": "stdout",
     "output_type": "stream",
     "text": [
      "1371/1371 [==============================] - 23s 17ms/step - loss: -1073.4672 - accuracy: 0.2539\n",
      "Test accuracy: 0.2538589537143707\n"
     ]
    }
   ],
   "source": [
    "#評估模型\n",
    "loss, acc = model.evaluate(X_test_pad, y_test, batch_size=32)\n",
    "print('Test accuracy:', acc)"
   ]
  },
  {
   "cell_type": "markdown",
   "id": "3f5bbaca",
   "metadata": {},
   "source": [
    "## 將測試的語句轉為索引後，預測"
   ]
  },
  {
   "cell_type": "code",
   "execution_count": 15,
   "id": "8561c57a",
   "metadata": {},
   "outputs": [
    {
     "name": "stdout",
     "output_type": "stream",
     "text": [
      "1/1 [==============================] - 1s 940ms/step\n"
     ]
    },
    {
     "data": {
      "text/plain": [
       "array([[1.]], dtype=float32)"
      ]
     },
     "execution_count": 15,
     "metadata": {},
     "output_type": "execute_result"
    }
   ],
   "source": [
    "x = ['ChatGPT is optimizing language models for dialogue.']\n",
    "test_sequences = tokenizer.texts_to_sequences(x)\n",
    "\n",
    "# Pad the testing sequences\n",
    "test_padded = pad_sequences(test_sequences, maxlen=maxlen)\n",
    "\n",
    "model.predict(test_padded)"
   ]
  },
  {
   "cell_type": "code",
   "execution_count": 16,
   "id": "b133f860",
   "metadata": {},
   "outputs": [
    {
     "name": "stdout",
     "output_type": "stream",
     "text": [
      "1/1 [==============================] - 0s 34ms/step\n"
     ]
    },
    {
     "data": {
      "text/plain": [
       "array([[1.]], dtype=float32)"
      ]
     },
     "execution_count": 16,
     "metadata": {},
     "output_type": "execute_result"
    }
   ],
   "source": [
    "x = ['Bad model.']\n",
    "test_sequences = tokenizer.texts_to_sequences(x)\n",
    "\n",
    "# Pad the testing sequences\n",
    "test_padded = pad_sequences(test_sequences, maxlen=maxlen)\n",
    "\n",
    "model.predict(test_padded)"
   ]
  },
  {
   "cell_type": "code",
   "execution_count": 17,
   "id": "105e9a2c",
   "metadata": {},
   "outputs": [
    {
     "name": "stdout",
     "output_type": "stream",
     "text": [
      "1/1 [==============================] - 0s 31ms/step\n"
     ]
    },
    {
     "data": {
      "text/plain": [
       "array([[1.]], dtype=float32)"
      ]
     },
     "execution_count": 17,
     "metadata": {},
     "output_type": "execute_result"
    }
   ],
   "source": [
    "x = ['The ChatGPT model is good today.']\n",
    "test_sequences = tokenizer.texts_to_sequences(x)\n",
    "\n",
    "# Pad the testing sequences\n",
    "test_padded = pad_sequences(test_sequences, maxlen=maxlen)\n",
    "\n",
    "model.predict(test_padded)"
   ]
  },
  {
   "cell_type": "code",
   "execution_count": null,
   "id": "27702cec",
   "metadata": {},
   "outputs": [],
   "source": []
  }
 ],
 "metadata": {
  "kernelspec": {
   "display_name": "Python 3 (ipykernel)",
   "language": "python",
   "name": "python3"
  },
  "language_info": {
   "codemirror_mode": {
    "name": "ipython",
    "version": 3
   },
   "file_extension": ".py",
   "mimetype": "text/x-python",
   "name": "python",
   "nbconvert_exporter": "python",
   "pygments_lexer": "ipython3",
   "version": "3.9.12"
  }
 },
 "nbformat": 4,
 "nbformat_minor": 5
}
